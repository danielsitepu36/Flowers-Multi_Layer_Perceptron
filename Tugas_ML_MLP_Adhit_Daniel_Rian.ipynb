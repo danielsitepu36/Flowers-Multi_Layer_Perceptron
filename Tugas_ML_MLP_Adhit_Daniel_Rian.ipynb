{
  "nbformat": 4,
  "nbformat_minor": 0,
  "metadata": {
    "colab": {
      "name": "Tugas_ML_MLP_Adhit_Daniel_Rian.ipynb",
      "provenance": [],
      "collapsed_sections": [],
      "include_colab_link": true
    },
    "kernelspec": {
      "name": "python3",
      "display_name": "Python 3"
    },
    "language_info": {
      "name": "python"
    }
  },
  "cells": [
    {
      "cell_type": "markdown",
      "metadata": {
        "id": "view-in-github",
        "colab_type": "text"
      },
      "source": [
        "<a href=\"https://colab.research.google.com/github/danielsitepu36/ML-Flowers-Multi_Layer_Perceptron/blob/main/Tugas_ML_MLP_Adhit_Daniel_Rian.ipynb\" target=\"_parent\"><img src=\"https://colab.research.google.com/assets/colab-badge.svg\" alt=\"Open In Colab\"/></a>"
      ]
    },
    {
      "cell_type": "markdown",
      "metadata": {
        "id": "bp5cxTihAQ6t"
      },
      "source": [
        "# Tugas Multi Layer Perceptron\n",
        "\n",
        "Alexius Adhitya K            - 18/424179/PA/18284\\\n",
        "Daniel Suranta Sitepu       - 18/424185/PA/18290\\\n",
        "Fransiskus Rian Wardana P   - 18/427592/PA/18552"
      ]
    },
    {
      "cell_type": "markdown",
      "metadata": {
        "id": "Bi6OiEZFAXCF"
      },
      "source": [
        "Spesifikasi:\n",
        "Multi Layer Perceptron => 1 hidden layer\n",
        "\n",
        "Ukuran gambar: 320p x 240p, jika tidak sesuai, resize ke 320x240\\\n",
        "Jumlah neuron pada input layer: 320x240 = 76800\\\n",
        "Jumlah neuron pada hidden layer: 80\\\n",
        "Jumlah neuron pada output layer: 3 (one hot encoding)\\\n",
        "Jumlah class: 3 => [rose, sunflower, dandelion]\\\n",
        "Jumlah data per class: 100 gambar, 80 train data, 20 test data"
      ]
    },
    {
      "cell_type": "markdown",
      "metadata": {
        "id": "OtQFsOpoAeCr"
      },
      "source": [
        "### Import Libraries"
      ]
    },
    {
      "cell_type": "code",
      "metadata": {
        "id": "aBwDB89s_YcG"
      },
      "source": [
        "import math\n",
        "import matplotlib.pyplot as plt\n",
        "import matplotlib.cm as cm\n",
        "import os\n",
        "from PIL import Image\n",
        "from random import shuffle\n",
        "import numpy as np\n",
        "from google.colab import drive\n",
        "import zipfile"
      ],
      "execution_count": null,
      "outputs": []
    },
    {
      "cell_type": "markdown",
      "metadata": {
        "id": "B87nPBRkA6Gz"
      },
      "source": [
        "### Fungsi Definisi Arsitektur"
      ]
    },
    {
      "cell_type": "code",
      "metadata": {
        "id": "OLjDE2UMA9oE"
      },
      "source": [
        "def defineStructure(X, Y):\n",
        "    input = X.shape[0]  # size of input layer\n",
        "    hidden = 80         # hidden layer of size 4\n",
        "    output = Y.shape[0] # size of output layer\n",
        "    return (input, hidden, output)\n",
        "\n",
        "# (input, hidden, output) = define_structure(X_TRAIN, Y_TRAIN)\n",
        "# print(\"The size of the input layer is:  = \" + str(input_unit))\n",
        "# print(\"The size of the hidden layer is:  = \" + str(hidden_unit))\n",
        "# print(\"The size of the output layer is:  = \" + str(output_unit))"
      ],
      "execution_count": null,
      "outputs": []
    },
    {
      "cell_type": "markdown",
      "metadata": {
        "id": "UIw28vO9BL2g"
      },
      "source": [
        ""
      ]
    }
  ]
}